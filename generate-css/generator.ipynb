{
 "cells": [
  {
   "cell_type": "code",
   "execution_count": null,
   "metadata": {},
   "outputs": [],
   "source": [
    "%%javascript\n",
    "// → Launch Classic Notebook\n",
    "IPython.notebook.kernel.execute(\n",
    "    \"import os; __file__ = os.path.join(os.getcwd(), '\"+IPython.notebook.notebook_name+\"')\"\n",
    ");"
   ]
  },
  {
   "cell_type": "code",
   "execution_count": null,
   "metadata": {},
   "outputs": [],
   "source": [
    "import sys\n",
    "import os\n",
    "from nbconvert import HTMLExporter\n",
    "\n",
    "class MyExporter(HTMLExporter):\n",
    "    @property\n",
    "    def template_path(self):\n",
    "        \"\"\"\n",
    "        We want to inherit from HTML template, and have template under\n",
    "        `./templates/` so append it to the search path. (see next section)\n",
    "        \"\"\"\n",
    "        return super().template_path + [os.path.dirname(__file__)]\n",
    "\n",
    "    def _template_file_default(self):\n",
    "        \"\"\"\n",
    "        We want to use the new template we ship with our library.\n",
    "        \"\"\"\n",
    "        return 'hexo'\n",
    "\n",
    "def main(ipynb_file):\n",
    "    exporter = MyExporter()\n",
    "    with open('notebook.css', 'w') as f:\n",
    "        f.write()"
   ]
  },
  {
   "cell_type": "code",
   "execution_count": null,
   "metadata": {},
   "outputs": [],
   "source": [
    "import os\n",
    "main('dummy.ipynb')"
   ]
  }
 ],
 "metadata": {
  "kernelspec": {
   "display_name": "Python 3",
   "language": "python",
   "name": "python3"
  }
 },
 "nbformat": 4,
 "nbformat_minor": 4
}
